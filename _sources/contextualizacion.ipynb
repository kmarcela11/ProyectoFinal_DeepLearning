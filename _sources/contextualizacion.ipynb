{
 "cells": [
  {
   "cell_type": "markdown",
   "metadata": {},
   "source": [
    "# **Contextualización del proyecto**"
   ]
  },
  {
   "cell_type": "markdown",
   "metadata": {},
   "source": [
    "Conjunto de datos de imágenes de ultrasonido de mama"
   ]
  },
  {
   "cell_type": "markdown",
   "metadata": {},
   "source": [
    "Acerca del conjunto de datos\n",
    "El cáncer de mama es una de las causas más comunes de muerte entre las mujeres en todo el mundo. La detección temprana ayuda a reducir el número de muertes prematuras. Los datos revisan las imágenes médicas del cáncer de mama mediante ecografía. El conjunto de datos de ultrasonido de mama se clasifica en tres clases: imágenes normales, benignas y malignas. Las imágenes de ultrasonido de mama pueden producir excelentes resultados en la clasificación, detección y segmentación del cáncer de mama cuando se combinan con el aprendizaje automático.\n",
    "\n",
    "Datos\n",
    "Los datos recopilados al inicio del estudio incluyen imágenes ecográficas de mama de mujeres de entre 25 y 75 años. Estos datos se recopilaron en 2018. El número de pacientes es de 600 mujeres. El conjunto de datos consta de 780 imágenes con un tamaño medio de imagen de 500*500 píxeles. Las imágenes están en formato PNG. Las imágenes de la verdad sobre el terreno se presentan con imágenes originales. Las imágenes se clasifican en tres clases, que son normales, benignas y malignas.\n",
    "\n",
    "Si utiliza este conjunto de datos, cite:\n",
    "Al-Dhabyani W, Gomaa M, Khaled H, Fahmy A. Conjunto de datos de imágenes de ultrasonido de mama. Resumen de datos. Febrero de 2020;28:104863. DOI: 10.1016/j.dib.2019.104863."
   ]
  },
  {
   "cell_type": "markdown",
   "metadata": {},
   "source": [
    "Acerca de este directorio\n",
    "\n",
    "Sugerir ediciones\n",
    "Los datos revisan las imágenes médicas del cáncer de mama mediante ecografía. El conjunto de datos de ultrasonido de mama se clasifica en tres clases: imágenes normales, benignas y malignas. Las imágenes de ultrasonido de mama pueden producir excelentes resultados en la clasificación, detección y segmentación del cáncer de mama cuando se combinan con el aprendizaje automático."
   ]
  }
 ],
 "metadata": {
  "language_info": {
   "name": "python"
  }
 },
 "nbformat": 4,
 "nbformat_minor": 2
}
